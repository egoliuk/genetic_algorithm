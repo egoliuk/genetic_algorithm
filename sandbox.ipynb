{
 "cells": [
  {
   "cell_type": "markdown",
   "metadata": {},
   "source": [
    "# Генетичний алгоритм"
   ]
  },
  {
   "cell_type": "markdown",
   "metadata": {},
   "source": [
    "## Імпорт бібліотек"
   ]
  },
  {
   "cell_type": "code",
   "execution_count": 48,
   "metadata": {},
   "outputs": [],
   "source": [
    "import random\n",
    "import itertools\n",
    "import math\n",
    "from IPython.display import clear_output"
   ]
  },
  {
   "cell_type": "markdown",
   "metadata": {},
   "source": [
    "Етапи:\n",
    "- **Initialization:** population size, search space\n",
    "- **Fitness function & Selection**\n",
    "- **Generate next population: Crossover & Mutation**\n",
    "- **Termination**"
   ]
  },
  {
   "cell_type": "markdown",
   "metadata": {},
   "source": [
    "## Initialization\n",
    "\n",
    "Спочатку створимо допоміжну функцію для генерації допустимої множини хромосом, які можуть бути в індивіда. У нашому випадку - це всі літери англійського алфавіта в нижньому регістрі та пробіл."
   ]
  },
  {
   "cell_type": "code",
   "execution_count": 50,
   "metadata": {},
   "outputs": [],
   "source": [
    "def make_search_space():\n",
    "    alphabet = [chr(x) for x in range(ord('a'), ord('z') + 1)]\n",
    "    return alphabet + [' ']"
   ]
  },
  {
   "cell_type": "markdown",
   "metadata": {},
   "source": [
    "Тепер створимо функцію генерації індивідів з рандомно обраних хромосом, та функцію для генерації популяції таких індивідів потрібного розміру."
   ]
  },
  {
   "cell_type": "code",
   "execution_count": 51,
   "metadata": {},
   "outputs": [],
   "source": [
    "def random_individual(genotype_length, search_space):\n",
    "    return [random.choice(search_space) for i in range(genotype_length)]\n",
    "\n",
    "def init_generation(generation_size, genotype_length, search_space):\n",
    "    return [random_individual(genotype_length, search_space) for i in range(generation_size)]"
   ]
  },
  {
   "cell_type": "code",
   "execution_count": 70,
   "metadata": {},
   "outputs": [
    {
     "data": {
      "text/plain": [
       "[['a', 'k', 'n', 's'],\n",
       " ['o', 'w', 'c', 'y'],\n",
       " ['t', 'b', ' ', 'h'],\n",
       " ['i', 'l', 'k', 'r'],\n",
       " ['d', 'f', 'k', 'l']]"
      ]
     },
     "execution_count": 70,
     "metadata": {},
     "output_type": "execute_result"
    }
   ],
   "source": [
    "search_space = make_search_space()\n",
    "generation = init_generation(5, 4, search_space)\n",
    "generation"
   ]
  },
  {
   "cell_type": "markdown",
   "metadata": {},
   "source": [
    "## Fitness function & Selection\n",
    "\n",
    "Спочатку напишемо fitness функцію для оцінки індивіда, на скільки наближеним є його набір хромосом до цільвого набору. "
   ]
  },
  {
   "cell_type": "code",
   "execution_count": 71,
   "metadata": {},
   "outputs": [
    {
     "data": {
      "text/plain": [
       "0.6666666666666666"
      ]
     },
     "execution_count": 71,
     "metadata": {},
     "output_type": "execute_result"
    }
   ],
   "source": [
    "target = ['d', 'a', 'r', 'w', 'i', 'n']\n",
    "individual = ['c', 'a', 'r', 'l', 'i', 'n']\n",
    "\n",
    "def loss(individual, target):\n",
    "    comparisons = [i[0] == i[1] for i in zip(individual, target)]\n",
    "    return sum(comparisons) / len(target)\n",
    "\n",
    "loss(individual, target)"
   ]
  },
  {
   "cell_type": "markdown",
   "metadata": {},
   "source": [
    "Тепер, коли ми можемо оцінити кожного індивіда, напишемо функцію природнього добору, яка з усієї популяції обирає найкращих індивідів, які потім (пізніше реалізуємо це) дадуть нащадків."
   ]
  },
  {
   "cell_type": "code",
   "execution_count": 73,
   "metadata": {},
   "outputs": [],
   "source": [
    "def select(population, proportion=0.5):\n",
    "    fitnesses = [loss(individual, target) for individual in population]\n",
    "    fitnesses, population = (list(t) for t in zip(*sorted(zip(fitnesses, population), reverse=True)))\n",
    "    threshold = math.ceil(len(population)*proportion)\n",
    "    best_scores = fitnesses[:threshold]\n",
    "    fittest_individuals = population[:threshold]\n",
    "    return fittest_individuals, best_scores"
   ]
  },
  {
   "cell_type": "code",
   "execution_count": 133,
   "metadata": {},
   "outputs": [
    {
     "data": {
      "text/plain": [
       "([['d', ' ', 'v', 's', 'q', 'n'],\n",
       "  [' ', 'v', 'r', 'w', 'd', 't'],\n",
       "  ['y', 'g', 'l', 'c', 'i', 'g'],\n",
       "  ['w', 'h', 'r', 'u', 'p', 'b'],\n",
       "  ['t', 'w', 'y', 't', ' ', 'r']],\n",
       " [0.3333333333333333,\n",
       "  0.3333333333333333,\n",
       "  0.16666666666666666,\n",
       "  0.16666666666666666,\n",
       "  0.0])"
      ]
     },
     "execution_count": 133,
     "metadata": {},
     "output_type": "execute_result"
    }
   ],
   "source": [
    "target = ['d', 'a', 'r', 'w', 'i', 'n']\n",
    "population = init_generation(10, 6, search_space)\n",
    "selection_coeff = 0.5\n",
    "best_individuals, best_scores = select(population, selection_coeff)\n",
    "best_individuals, best_scores"
   ]
  },
  {
   "cell_type": "markdown",
   "metadata": {},
   "source": [
    "## Generate next population: Crossover & Mutation\n",
    "\n",
    "Спочатку напишемо функцію мутації хромосом індивіда."
   ]
  },
  {
   "cell_type": "code",
   "execution_count": 105,
   "metadata": {},
   "outputs": [],
   "source": [
    "def mutate(child, mutation_ratio, search_space=search_space):\n",
    "    count = math.ceil(len(child) * mutation_ratio)\n",
    "    for i in range(count):\n",
    "        child[random.randint(0, len(child)-1)] = random.choice(search_space)\n",
    "    return child"
   ]
  },
  {
   "cell_type": "code",
   "execution_count": 106,
   "metadata": {},
   "outputs": [
    {
     "data": {
      "text/plain": [
       "['s', 'x', 'r', 'w', 'i', 'n']"
      ]
     },
     "execution_count": 106,
     "metadata": {},
     "output_type": "execute_result"
    }
   ],
   "source": [
    "individual = ['d', 'a', 'r', 'w', 'i', 'n']\n",
    "mutate(individual, 0.25)"
   ]
  },
  {
   "cell_type": "markdown",
   "metadata": {},
   "source": [
    "Тепер напишемо функцію, створення нового індивіда шляхом схрещення генома двох батьків."
   ]
  },
  {
   "cell_type": "code",
   "execution_count": 109,
   "metadata": {},
   "outputs": [],
   "source": [
    "def produce_child(daddy, mom, shift=0):\n",
    "    child = daddy.copy()\n",
    "    child[shift::2] = mom[shift::2]\n",
    "    return child"
   ]
  },
  {
   "cell_type": "code",
   "execution_count": 111,
   "metadata": {},
   "outputs": [
    {
     "data": {
      "text/plain": [
       "['f', 'a', 'w', 'w', 'e', 'n']"
      ]
     },
     "execution_count": 111,
     "metadata": {},
     "output_type": "execute_result"
    }
   ],
   "source": [
    "daddy = ['d', 'a', 'r', 'w', 'i', 'n']\n",
    "mom = ['f', 'o', 'w', 'l', 'e', 'r']\n",
    "produce_child(daddy, mom)"
   ]
  },
  {
   "cell_type": "markdown",
   "metadata": {},
   "source": [
    "Маючи функції породження нових індивідів та внесення випадкових мутацій в іх геном, тепер ми можемо створити функцію генерації новою популяції."
   ]
  },
  {
   "cell_type": "code",
   "execution_count": 119,
   "metadata": {},
   "outputs": [],
   "source": [
    "def new_generation(parents):\n",
    "    children = [produce_child(*random.sample(parents, k=2)) for i in parents]\n",
    "    children = [mutate(child, 0.25) for child in children]\n",
    "    new_generation = (parents + children)\n",
    "    return new_generation"
   ]
  },
  {
   "cell_type": "code",
   "execution_count": 138,
   "metadata": {},
   "outputs": [
    {
     "name": "stdout",
     "output_type": "stream",
     "text": [
      "Parents:\n",
      "[['d', ' ', 'v', 's', 'q', 'n'], [' ', 'v', 'r', 'w', 'd', 't'], ['y', 'g', 'l', 'c', 'i', 'g'], ['w', 'h', 'r', 'u', 'p', 'b'], ['t', 'w', 'y', 't', ' ', 'r']]\n",
      "\n",
      "New population (parents & children):\n",
      "[['d', ' ', 'v', 's', 'q', 'n'], [' ', 'v', 'r', 'w', 'd', 't'], ['y', 'g', 'l', 'c', 'i', 'g'], ['w', 'h', 'r', 'u', 'p', 'b'], ['t', 'w', 'y', 't', ' ', 'r'], ['y', 'w', 'd', 't', 'i', 'b'], ['i', 'j', 'v', 'u', 'q', 'b'], ['y', 'v', 'l', 't', 'i', 't'], ['t', ' ', 'r', 'z', 'd', 'n'], ['t', 'a', 'y', 's', ' ', 'p']]\n"
     ]
    }
   ],
   "source": [
    "print(f\"Parents:\\n{best_individuals}\\n\")\n",
    "new_population = new_generation(best_individuals)\n",
    "print(f\"New population (parents & children):\\n{new_population}\")"
   ]
  },
  {
   "cell_type": "markdown",
   "metadata": {},
   "source": [
    "## Create model\n",
    "\n",
    "Зберемо все в одну модель:"
   ]
  },
  {
   "cell_type": "code",
   "execution_count": 142,
   "metadata": {},
   "outputs": [],
   "source": [
    "class GA:\n",
    "    def __init__(self, target, population_size=1000, mutation_ratio=0.10, selection_coeff=0.5):\n",
    "        self.target = list(target)\n",
    "        self.mutation_ratio = mutation_ratio\n",
    "        self.selection_coeff = selection_coeff\n",
    "        self.genotype_length = len(target)\n",
    "        self.population_size = population_size\n",
    "        self.search_space = self.make_search_space()\n",
    "        self.generation = self.init_generation(self.population_size,\n",
    "                                               self.genotype_length,\n",
    "                                               self.search_space)\n",
    "        \n",
    "        self.output_string = \"\".join(self.generation[0])\n",
    "    \n",
    "    def make_search_space(self):\n",
    "        alphabet = [chr(x) for x in range(ord('a'), ord('z') + 1)]\n",
    "        return alphabet + [' ']\n",
    "    \n",
    "    def init_generation(self, generation_size, genotype_length, search_space):\n",
    "        return [self.random_individual(genotype_length, search_space) for i in range(generation_size)]\n",
    "    \n",
    "    def random_individual(self, genotype_length, search_space):\n",
    "        return [random.choice(search_space) for i in range(genotype_length)]\n",
    "    \n",
    "    def loss(self, individual, target):\n",
    "        comparisons = [i[0] == i[1] for i in zip(individual, target)]\n",
    "        return sum(comparisons) / len(target)\n",
    "    \n",
    "    def select(self, population, proportion=0.5):\n",
    "        fitnesses = [self.loss(individual, self.target) for individual in population]\n",
    "        fitnesses, population = (list(t) for t in zip(*sorted(zip(fitnesses, population), reverse=True)))\n",
    "        threshold = math.ceil(len(population)*proportion)\n",
    "        best_scores = fitnesses[:threshold]\n",
    "        fittest_individuals = population[:threshold]\n",
    "        return fittest_individuals, best_scores\n",
    "    \n",
    "    def new_generation(self, parents):\n",
    "        children = [self.produce_child(*random.sample(parents, k=2)) for i in parents]\n",
    "        children = [self.mutate(child, self.mutation_ratio) for child in children]\n",
    "        new_generation = (parents + children)[:self.population_size]\n",
    "        return new_generation\n",
    "    \n",
    "    def mutate(self, child, mutation_ratio):\n",
    "        count = math.ceil(len(child) * mutation_ratio)\n",
    "        for i in range(count):\n",
    "            child[random.randint(0, len(child)-1)] = random.choice(self.search_space)\n",
    "        return child \n",
    "        \n",
    "    def produce_child(self, daddy, mom, shift=0):\n",
    "        child = daddy.copy()\n",
    "        child[shift::2] = mom[shift::2]\n",
    "        return child\n",
    "    \n",
    "    def train(self):\n",
    "        best_score = .0\n",
    "        count = 0\n",
    "        while best_score < 1:\n",
    "            fittest_individuals, best_scores = self.select(self.generation, self.selection_coeff)\n",
    "            best_score = best_scores[0]\n",
    "            self.output_string = \"\".join(fittest_individuals[0])\n",
    "            clear_output()\n",
    "            print(self.output_string)\n",
    "            print(f\"Iteration: {count}; Best score: {best_scores[0]}\\n\")\n",
    "            self.generation = self.new_generation(fittest_individuals)\n",
    "            count += 1"
   ]
  },
  {
   "cell_type": "code",
   "execution_count": 150,
   "metadata": {},
   "outputs": [],
   "source": [
    "ga = GA(\"to be or not to be that is the question\", 100, .010)"
   ]
  },
  {
   "cell_type": "code",
   "execution_count": 151,
   "metadata": {},
   "outputs": [
    {
     "name": "stdout",
     "output_type": "stream",
     "text": [
      "to be or not to be that is the question\n",
      "Iteration: 237; Best score: 1.0\n",
      "\n"
     ]
    }
   ],
   "source": [
    "ga.train()"
   ]
  },
  {
   "cell_type": "code",
   "execution_count": null,
   "metadata": {},
   "outputs": [],
   "source": []
  }
 ],
 "metadata": {
  "kernelspec": {
   "display_name": "Python 3",
   "language": "python",
   "name": "python3"
  },
  "language_info": {
   "codemirror_mode": {
    "name": "ipython",
    "version": 3
   },
   "file_extension": ".py",
   "mimetype": "text/x-python",
   "name": "python",
   "nbconvert_exporter": "python",
   "pygments_lexer": "ipython3",
   "version": "3.7.4"
  }
 },
 "nbformat": 4,
 "nbformat_minor": 2
}
