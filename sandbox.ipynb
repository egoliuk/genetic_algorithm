{
 "cells": [
  {
   "cell_type": "markdown",
   "metadata": {},
   "source": [
    "# Генетичний алгоритм"
   ]
  },
  {
   "cell_type": "markdown",
   "metadata": {},
   "source": [
    "## Імпорт бібліотек"
   ]
  },
  {
   "cell_type": "code",
   "execution_count": 523,
   "metadata": {},
   "outputs": [],
   "source": [
    "import random\n",
    "import itertools\n",
    "import numpy  as np\n",
    "import pandas  as pd\n",
    "import math\n",
    "from IPython.display import clear_output\n",
    "from scipy.special import binom\n",
    "import matplotlib.pyplot as plt"
   ]
  },
  {
   "cell_type": "markdown",
   "metadata": {},
   "source": [
    "Етапи:\n",
    "- **Initialization:** population size, search space\n",
    "- **Fitness function & Selection**\n",
    "- **Generate next population: Crossover & Mutation**\n",
    "- **Termination**"
   ]
  },
  {
   "cell_type": "markdown",
   "metadata": {},
   "source": [
    "## Initialization\n",
    "\n",
    "Спочатку створимо допоміжну функцію для генерації допустимої множини хромосом, які можуть бути в індивіда. У нашому випадку - це всі літери англійського алфавіта в нижньому регістрі та пробіл."
   ]
  },
  {
   "cell_type": "code",
   "execution_count": 2,
   "metadata": {},
   "outputs": [],
   "source": [
    "def make_search_space():\n",
    "    alphabet = [chr(x) for x in range(ord('a'), ord('z') + 1)]\n",
    "    return alphabet + [' ']"
   ]
  },
  {
   "cell_type": "markdown",
   "metadata": {},
   "source": [
    "Тепер створимо функцію генерації індивідів з рандомно обраних хромосом, та функцію для генерації популяції таких індивідів потрібного розміру."
   ]
  },
  {
   "cell_type": "code",
   "execution_count": 3,
   "metadata": {},
   "outputs": [],
   "source": [
    "def random_individual(genotype_length, search_space):\n",
    "    return [random.choice(search_space) for i in range(genotype_length)]\n",
    "\n",
    "def init_generation(generation_size, genotype_length, search_space):\n",
    "    return [random_individual(genotype_length, search_space) for i in range(generation_size)]"
   ]
  },
  {
   "cell_type": "code",
   "execution_count": 4,
   "metadata": {},
   "outputs": [
    {
     "data": {
      "text/plain": [
       "[['a', 'q', 's', 'j'],\n",
       " ['y', 'y', 'z', 'm'],\n",
       " ['a', 'x', 'p', 'm'],\n",
       " ['t', 't', 'u', 'r'],\n",
       " ['n', 'w', 'q', ' ']]"
      ]
     },
     "execution_count": 4,
     "metadata": {},
     "output_type": "execute_result"
    }
   ],
   "source": [
    "search_space = make_search_space()\n",
    "generation = init_generation(5, 4, search_space)\n",
    "generation"
   ]
  },
  {
   "cell_type": "markdown",
   "metadata": {},
   "source": [
    "## Fitness function & Selection\n",
    "\n",
    "Спочатку напишемо fitness функцію для оцінки індивіда, на скільки наближеним є його набір хромосом до цільвого набору. "
   ]
  },
  {
   "cell_type": "code",
   "execution_count": 5,
   "metadata": {},
   "outputs": [
    {
     "data": {
      "text/plain": [
       "0.6666666666666666"
      ]
     },
     "execution_count": 5,
     "metadata": {},
     "output_type": "execute_result"
    }
   ],
   "source": [
    "target = ['d', 'a', 'r', 'w', 'i', 'n']\n",
    "individual = ['c', 'a', 'r', 'l', 'i', 'n']\n",
    "\n",
    "def loss(individual, target):\n",
    "    comparisons = [i[0] == i[1] for i in zip(individual, target)]\n",
    "    return sum(comparisons) / len(target)\n",
    "\n",
    "loss(individual, target)"
   ]
  },
  {
   "cell_type": "markdown",
   "metadata": {},
   "source": [
    "Тепер, коли ми можемо оцінити кожного індивіда, напишемо функцію природнього добору, яка з усієї популяції обирає найкращих індивідів, які потім (пізніше реалізуємо це) дадуть нащадків."
   ]
  },
  {
   "cell_type": "code",
   "execution_count": 6,
   "metadata": {},
   "outputs": [],
   "source": [
    "def select(population, proportion=0.5):\n",
    "    fitnesses = [loss(individual, target) for individual in population]\n",
    "    fitnesses, population = (list(t) for t in zip(*sorted(zip(fitnesses, population), reverse=True)))\n",
    "    threshold = math.ceil(len(population)*proportion)\n",
    "    best_scores = fitnesses[:threshold]\n",
    "    fittest_individuals = population[:threshold]\n",
    "    return fittest_individuals, best_scores"
   ]
  },
  {
   "cell_type": "code",
   "execution_count": 7,
   "metadata": {},
   "outputs": [
    {
     "data": {
      "text/plain": [
       "([['p', 'a', 'k', 'm', 'b', 'v'],\n",
       "  ['z', 'n', 'l', ' ', 'u', 'f'],\n",
       "  ['y', 'm', 'd', 'r', 'k', 'b'],\n",
       "  ['v', 'g', 'j', 'j', 'y', 'r'],\n",
       "  ['q', 'u', 'l', 'e', 'x', 'i']],\n",
       " [0.16666666666666666, 0.0, 0.0, 0.0, 0.0])"
      ]
     },
     "execution_count": 7,
     "metadata": {},
     "output_type": "execute_result"
    }
   ],
   "source": [
    "target = ['d', 'a', 'r', 'w', 'i', 'n']\n",
    "population = init_generation(10, 6, search_space)\n",
    "selection_coeff = 0.5\n",
    "best_individuals, best_scores = select(population, selection_coeff)\n",
    "best_individuals, best_scores"
   ]
  },
  {
   "cell_type": "markdown",
   "metadata": {},
   "source": [
    "## Generate next population: Crossover & Mutation\n",
    "\n",
    "Спочатку напишемо функцію мутації хромосом індивіда."
   ]
  },
  {
   "cell_type": "code",
   "execution_count": 8,
   "metadata": {},
   "outputs": [],
   "source": [
    "def mutate(child, mutation_ratio, search_space=search_space):\n",
    "    count = math.ceil(len(child) * mutation_ratio)\n",
    "    for i in range(count):\n",
    "        child[random.randint(0, len(child)-1)] = random.choice(search_space)\n",
    "    return child"
   ]
  },
  {
   "cell_type": "code",
   "execution_count": 9,
   "metadata": {},
   "outputs": [
    {
     "data": {
      "text/plain": [
       "['c', 'a', 'r', 'b', 'i', 'n']"
      ]
     },
     "execution_count": 9,
     "metadata": {},
     "output_type": "execute_result"
    }
   ],
   "source": [
    "individual = ['d', 'a', 'r', 'w', 'i', 'n']\n",
    "mutate(individual, 0.25)"
   ]
  },
  {
   "cell_type": "markdown",
   "metadata": {},
   "source": [
    "Тепер напишемо функцію, створення нового індивіда шляхом схрещення генома двох батьків."
   ]
  },
  {
   "cell_type": "code",
   "execution_count": 10,
   "metadata": {},
   "outputs": [],
   "source": [
    "def produce_child(daddy, mom, shift=0):\n",
    "    child = daddy.copy()\n",
    "    child[shift::2] = mom[shift::2]\n",
    "    return child"
   ]
  },
  {
   "cell_type": "code",
   "execution_count": 11,
   "metadata": {},
   "outputs": [
    {
     "data": {
      "text/plain": [
       "['f', 'a', 'w', 'w', 'e', 'n']"
      ]
     },
     "execution_count": 11,
     "metadata": {},
     "output_type": "execute_result"
    }
   ],
   "source": [
    "daddy = ['d', 'a', 'r', 'w', 'i', 'n']\n",
    "mom = ['f', 'o', 'w', 'l', 'e', 'r']\n",
    "produce_child(daddy, mom)"
   ]
  },
  {
   "cell_type": "markdown",
   "metadata": {},
   "source": [
    "Маючи функції породження нових індивідів та внесення випадкових мутацій в іх геном, тепер ми можемо створити функцію генерації новою популяції."
   ]
  },
  {
   "cell_type": "code",
   "execution_count": 12,
   "metadata": {},
   "outputs": [],
   "source": [
    "def new_generation(parents):\n",
    "    children = [produce_child(*random.sample(parents, k=2)) for i in parents]\n",
    "    children = [mutate(child, 0.25) for child in children]\n",
    "    new_generation = (parents + children)\n",
    "    return new_generation"
   ]
  },
  {
   "cell_type": "code",
   "execution_count": 13,
   "metadata": {},
   "outputs": [
    {
     "name": "stdout",
     "output_type": "stream",
     "text": [
      "Parents:\n",
      "[['p', 'a', 'k', 'm', 'b', 'v'], ['z', 'n', 'l', ' ', 'u', 'f'], ['y', 'm', 'd', 'r', 'k', 'b'], ['v', 'g', 'j', 'j', 'y', 'r'], ['q', 'u', 'l', 'e', 'x', 'i']]\n",
      "\n",
      "New population (parents & children):\n",
      "[['p', 'a', 'k', 'm', 'b', 'v'], ['z', 'n', 'l', ' ', 'u', 'f'], ['y', 'm', 'd', 'r', 'k', 'b'], ['v', 'g', 'j', 'j', 'y', 'r'], ['q', 'u', 'l', 'e', 'x', 'i'], ['y', 'n', 'd', 'a', 'k', 'f'], ['q', 'k', 'j', ' ', 'x', 'f'], ['i', 'm', 'l', 'r', 'u', 'b'], ['v', 'u', 'j', 'e', 'i', 'y'], ['v', 'n', 'j', 'f', 'y', 'h']]\n"
     ]
    }
   ],
   "source": [
    "print(f\"Parents:\\n{best_individuals}\\n\")\n",
    "new_population = new_generation(best_individuals)\n",
    "print(f\"New population (parents & children):\\n{new_population}\")"
   ]
  },
  {
   "cell_type": "markdown",
   "metadata": {},
   "source": [
    "## Create model\n",
    "\n",
    "Зберемо все в одну модель:"
   ]
  },
  {
   "cell_type": "code",
   "execution_count": 498,
   "metadata": {},
   "outputs": [],
   "source": [
    "class GA:\n",
    "    def __init__(self, target, population_size=1000, mutation_ratio=0.10, selection_coeff=0.5):\n",
    "        print('Init model with following params:\\n \\\n",
    "              - population_size: {}\\n \\\n",
    "              - mutation_ratio: {}\\n \\\n",
    "              - selection_coeff: {}\\n'.format(population_size, mutation_ratio, selection_coeff))\n",
    "        self.target = list(target)\n",
    "        self.mutation_ratio = mutation_ratio\n",
    "        self.selection_coeff = selection_coeff\n",
    "        self.genotype_length = len(target)\n",
    "        self.population_size = population_size\n",
    "#         self.search_space = self.make_search_space()[:10]\n",
    "        self.search_space = self.make_search_space()\n",
    "        self.generation = self.init_generation(self.population_size,\n",
    "                                               self.genotype_length,\n",
    "                                               self.search_space)\n",
    "        \n",
    "        self.output_string = \"\".join(self.generation[0])\n",
    "    \n",
    "    def make_search_space(self):\n",
    "        alphabet = [chr(x) for x in range(ord('a'), ord('z') + 1)]\n",
    "        return alphabet + [' ']\n",
    "    \n",
    "    def init_generation(self, generation_size, genotype_length, search_space):\n",
    "        return [self.random_individual(genotype_length, search_space) for i in range(generation_size)]\n",
    "    \n",
    "    def random_individual(self, genotype_length, search_space):\n",
    "        return [random.choice(search_space) for i in range(genotype_length)]\n",
    "    \n",
    "    def loss(self, individual, target):\n",
    "        comparisons = [i[0] == i[1] for i in zip(individual, target)]\n",
    "        return sum(comparisons) / len(target)\n",
    "    \n",
    "    def select(self, population, proportion=0.5):\n",
    "        fitnesses = [self.loss(individual, self.target) for individual in population]\n",
    "        fitnesses, population = (list(t) for t in zip(*sorted(zip(fitnesses, population), reverse=True)))\n",
    "        threshold = math.ceil(len(population)*proportion)\n",
    "        best_scores = fitnesses[:threshold]\n",
    "        fittest_individuals = population[:threshold]\n",
    "        return fittest_individuals, best_scores\n",
    "    \n",
    "    def new_generation(self, parents):\n",
    "        amount_of_children = self.population_size - len(parents)\n",
    "        children = [self.produce_child(*random.sample(parents, k=2)) for i in range(amount_of_children)]\n",
    "        children = [self.mutate(child, self.mutation_ratio, self.search_space) for child in children]\n",
    "        new_generation = (parents + children)\n",
    "        return new_generation\n",
    "    \n",
    "    def mutate(self, child, mutation_ratio, search_space):\n",
    "        count = math.ceil(len(child) * mutation_ratio)\n",
    "        for i in range(count):\n",
    "            child[random.randint(0, len(child)-1)] = random.choice(search_space)\n",
    "        return child \n",
    "        \n",
    "    def produce_child(self, daddy, mom, shift=0):\n",
    "        child = daddy.copy()\n",
    "        child[shift::2] = mom[shift::2]\n",
    "        return child\n",
    "    \n",
    "    def train(self):\n",
    "        best_score = .0\n",
    "        count = 0\n",
    "        while best_score < 1:\n",
    "            fittest_individuals, best_scores = self.select(self.generation, self.selection_coeff)\n",
    "            best_score = best_scores[0]\n",
    "            self.output_string = \"\".join(fittest_individuals[0])\n",
    "            clear_output()\n",
    "            print(self.output_string)\n",
    "            print(f\"Iteration: {count}; Best score: {best_scores[0]}\\n\")\n",
    "            self.generation = self.new_generation(fittest_individuals)\n",
    "            count += 1\n",
    "        \n",
    "        return count, best_scores[0]"
   ]
  },
  {
   "cell_type": "code",
   "execution_count": 479,
   "metadata": {},
   "outputs": [
    {
     "name": "stdout",
     "output_type": "stream",
     "text": [
      "Init model with following params:\n",
      "               - population_size: 100\n",
      "               - mutation_ratio: 0.01\n",
      "               - selection_coeff: 0.5\n",
      "\n"
     ]
    }
   ],
   "source": [
    "phrase = \"to be or not to be that is the question\"\n",
    "ga = GA(phrase, 100, .01)"
   ]
  },
  {
   "cell_type": "code",
   "execution_count": 480,
   "metadata": {},
   "outputs": [
    {
     "name": "stdout",
     "output_type": "stream",
     "text": [
      "to be or not to be that is the question\n",
      "Iteration: 227; Best score: 1.0\n",
      "\n",
      "CPU times: user 1.25 s, sys: 175 ms, total: 1.43 s\n",
      "Wall time: 1.51 s\n"
     ]
    }
   ],
   "source": [
    "%%time\n",
    "ga.train()"
   ]
  },
  {
   "cell_type": "markdown",
   "metadata": {},
   "source": [
    "# Оптимізація алгоритму\n",
    "\n",
    "Спочатку визначемо оптимальний розмір популяції (див. [деталі](https://habr.com/ru/post/114910/))"
   ]
  },
  {
   "cell_type": "code",
   "execution_count": 329,
   "metadata": {},
   "outputs": [],
   "source": [
    "def measure_count_of_alleles(chromo_search_spaces):\n",
    "    return [len(x) for x in chromo_search_spaces]\n",
    "\n",
    "def max_population_size(count_of_alleles):\n",
    "    N = np.prod(count_of_alleles)\n",
    "    return N\n",
    "\n",
    "def min_population_size(space_list, prob=.999, left=0, right=10000):\n",
    "    if right - left <= 1:\n",
    "        return right\n",
    "    mid = (left + right) // 2\n",
    "    prob_mid = get_probability(mid, space_list)\n",
    "    print(prob_mid,left,right)\n",
    "    if prob > prob_mid:\n",
    "        return find_n(prob, space_list, mid, right)\n",
    "    else:\n",
    "        return find_n(prob, space_list, left, mid)\n",
    "\n",
    "# def min_population_size(count_of_alleles, prob=.999):\n",
    "#     L = len(count_of_alleles)\n",
    "# #     base = np.max(count_of_alleles)\n",
    "#     base = 2\n",
    "#     N = 1 + math.log(1/(1-0.999**(1/L)), base)\n",
    "#     return math.ceil(N)\n",
    "\n",
    "def prob_getting_all_chr(pop_size, space_size):\n",
    "    not_get_prob = 0\n",
    "    for i in range(1, space_size + 1):\n",
    "        not_get_prob += (-1) ** (i + 1) * binom(space_size, i) * ((space_size - i) / space_size) ** pop_size\n",
    "    return 1 - not_get_prob\n",
    "\n",
    "\n",
    "def get_probability(pop_size, space_list):\n",
    "    p = 1\n",
    "    for space_size in space_list:\n",
    "        p *= prob_getting_all_chr(pop_size, space_size)\n",
    "    return p"
   ]
  },
  {
   "cell_type": "code",
   "execution_count": 354,
   "metadata": {},
   "outputs": [
    {
     "data": {
      "text/plain": [
       "['a', 'b', 'c', 'd', 'e', 'f', 'g', 'h', 'i', 'j']"
      ]
     },
     "execution_count": 354,
     "metadata": {},
     "output_type": "execute_result"
    }
   ],
   "source": [
    "search_space[:10]"
   ]
  },
  {
   "cell_type": "code",
   "execution_count": 430,
   "metadata": {},
   "outputs": [
    {
     "name": "stdout",
     "output_type": "stream",
     "text": [
      "Max population size: 0\n",
      "1.0 0 10000\n",
      "1.0 0 5000\n",
      "1.0 0 2500\n",
      "0.9999999907635537 0 1250\n",
      "0.9987541887734737 0 625\n",
      "0.9999965422025273 312 625\n",
      "0.999934349273491 312 468\n",
      "0.9997139636438259 312 390\n",
      "0.9993916350996777 312 351\n",
      "0.9991128203160917 312 331\n",
      "0.9989286628828581 312 321\n",
      "0.9990065152979767 316 321\n",
      "0.9989683228347437 316 318\n",
      "Min population size: 318\n"
     ]
    }
   ],
   "source": [
    "# phrase_search_spaces = [list(range(len(search_space[:10]))) for char in phrase2]\n",
    "phrase_search_spaces = [list(range(len(search_space))) for char in phrase2]\n",
    "\n",
    "count_of_alleles = measure_count_of_alleles(phrase_search_spaces)\n",
    "N_max = max_population_size(phrase_search_spaces)\n",
    "print(f\"Max population size: {N_max}\")\n",
    "N_min = min_population_size(count_of_alleles, 0.999)\n",
    "# N_min = min_population_size(count_of_alleles)\n",
    "print(f\"Min population size: {N_min}\")"
   ]
  },
  {
   "cell_type": "code",
   "execution_count": 439,
   "metadata": {},
   "outputs": [
    {
     "name": "stdout",
     "output_type": "stream",
     "text": [
      "Init model with following params:\n",
      "               - population_size: 318\n",
      "               - mutation_ratio: 0.01\n",
      "               - selection_coeff: 0.5\n",
      "\n"
     ]
    }
   ],
   "source": [
    "phrase = \"to be or not to be that is the question\"\n",
    "ga = GA(phrase, N_min, .01)"
   ]
  },
  {
   "cell_type": "code",
   "execution_count": 440,
   "metadata": {},
   "outputs": [
    {
     "name": "stdout",
     "output_type": "stream",
     "text": [
      "to be or not to be that is the question\n",
      "Iteration: 138; Best score: 1.0\n",
      "\n",
      "CPU times: user 1.56 s, sys: 122 ms, total: 1.68 s\n",
      "Wall time: 2.19 s\n"
     ]
    }
   ],
   "source": [
    "%%time\n",
    "ga.train()"
   ]
  },
  {
   "cell_type": "markdown",
   "metadata": {},
   "source": [
    "Тепер визначемо оптимальний розмір розмір мутації (див. [деталі](https://habr.com/ru/post/114910/))"
   ]
  },
  {
   "cell_type": "code",
   "execution_count": 358,
   "metadata": {},
   "outputs": [],
   "source": [
    "def mutation_ratio(num_alleles, genotype_length, population_size):\n",
    "    N, L, p = population_size, genotype_length, 1/num_alleles\n",
    "    P2 = round((L*(1-(1-10*p**(N-1))**(1/N))) * 100, 3)\n",
    "    ratio = P2 if P2 > 0.01 else 0.01\n",
    "    return ratio"
   ]
  },
  {
   "cell_type": "code",
   "execution_count": 359,
   "metadata": {},
   "outputs": [
    {
     "data": {
      "text/plain": [
       "0.01"
      ]
     },
     "execution_count": 359,
     "metadata": {},
     "output_type": "execute_result"
    }
   ],
   "source": [
    "mut_ratio = mutation_ratio(np.max(count_of_alleles), len(phrase2), N_min)\n",
    "mut_ratio"
   ]
  },
  {
   "cell_type": "code",
   "execution_count": 496,
   "metadata": {},
   "outputs": [
    {
     "name": "stdout",
     "output_type": "stream",
     "text": [
      "Init model with following params:\n",
      "               - population_size: 318\n",
      "               - mutation_ratio: 0.01\n",
      "               - selection_coeff: 0.25\n",
      "\n"
     ]
    }
   ],
   "source": [
    "# phrase2 = \"abbcde\"\n",
    "ga = GA(phrase, N_min, mut_ratio, selection_coeff=0.25)"
   ]
  },
  {
   "cell_type": "code",
   "execution_count": 497,
   "metadata": {},
   "outputs": [
    {
     "name": "stdout",
     "output_type": "stream",
     "text": [
      "to be or not to be that is the question\n",
      "Iteration: 88; Best score: 1.0\n",
      "\n",
      "CPU times: user 1.13 s, sys: 89.9 ms, total: 1.22 s\n",
      "Wall time: 1.35 s\n"
     ]
    }
   ],
   "source": [
    "%%time\n",
    "ga.train()"
   ]
  },
  {
   "cell_type": "code",
   "execution_count": 543,
   "metadata": {},
   "outputs": [
    {
     "name": "stdout",
     "output_type": "stream",
     "text": [
      "to be or not to be that is the question\n",
      "Iteration: 51; Best score: 1.0\n",
      "\n",
      "Average epohe count: 56.2\n",
      "CPU times: user 7.38 s, sys: 583 ms, total: 7.96 s\n",
      "Wall time: 8.88 s\n"
     ]
    }
   ],
   "source": [
    "%%time\n",
    "total_count = 0\n",
    "for i in range(10):\n",
    "    print(f\"Iteration {i+1}\")\n",
    "    ga = GA(phrase, N_min, mut_ratio, selection_coeff=0.125)\n",
    "    count, best_score = ga.train()\n",
    "    total_count += count\n",
    "print(f\"Average epohe count: {total_count/10}\")"
   ]
  },
  {
   "cell_type": "code",
   "execution_count": null,
   "metadata": {},
   "outputs": [],
   "source": []
  },
  {
   "cell_type": "code",
   "execution_count": null,
   "metadata": {},
   "outputs": [],
   "source": []
  },
  {
   "cell_type": "code",
   "execution_count": null,
   "metadata": {},
   "outputs": [],
   "source": []
  },
  {
   "cell_type": "code",
   "execution_count": 45,
   "metadata": {},
   "outputs": [
    {
     "data": {
      "text/plain": [
       "17.608926043252524"
      ]
     },
     "execution_count": 45,
     "metadata": {},
     "output_type": "execute_result"
    }
   ],
   "source": [
    "properties = [list(range(2)), list(range(3)), list(range(2)), list(range(2))]\n",
    "properties"
   ]
  },
  {
   "cell_type": "code",
   "execution_count": 546,
   "metadata": {},
   "outputs": [
    {
     "data": {
      "image/png": "[encoded data removed]",
      "text/plain": [
       "<Figure size 432x288 with 1 Axes>"
      ]
     },
     "metadata": {
      "needs_background": "light"
     },
     "output_type": "display_data"
    }
   ],
   "source": [
    "# 11364\n",
    "pd.Series([35, 57, 82, 118, 160, 235, 393, 821]).plot()\n",
    "plt.show()"
   ]
  },
  {
   "cell_type": "code",
   "execution_count": null,
   "metadata": {},
   "outputs": [],
   "source": []
  }
 ],
 "metadata": {
  "kernelspec": {
   "display_name": "Python 3",
   "language": "python",
   "name": "python3"
  },
  "language_info": {
   "codemirror_mode": {
    "name": "ipython",
    "version": 3
   },
   "file_extension": ".py",
   "mimetype": "text/x-python",
   "name": "python",
   "nbconvert_exporter": "python",
   "pygments_lexer": "ipython3",
   "version": "3.7.4"
  }
 },
 "nbformat": 4,
 "nbformat_minor": 2
}
