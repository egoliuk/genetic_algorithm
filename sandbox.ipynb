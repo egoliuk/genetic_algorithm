{
 "cells": [
  {
   "cell_type": "markdown",
   "metadata": {},
   "source": [
    "# Генетичний алгоритм"
   ]
  },
  {
   "cell_type": "markdown",
   "metadata": {},
   "source": [
    "## Імпорт бібліотек"
   ]
  },
  {
   "cell_type": "code",
   "execution_count": 2,
   "metadata": {},
   "outputs": [],
   "source": [
    "import random\n",
    "import itertools\n",
    "import numpy  as np\n",
    "import pandas  as pd\n",
    "import math\n",
    "from IPython.display import clear_output\n",
    "from scipy.special import binom\n",
    "import matplotlib.pyplot as plt"
   ]
  },
  {
   "cell_type": "markdown",
   "metadata": {},
   "source": [
    "Етапи:\n",
    "- **Initialization:** population size, search space\n",
    "- **Fitness function & Selection**\n",
    "- **Generate next population: Crossover & Mutation**\n",
    "- **Termination**"
   ]
  },
  {
   "cell_type": "markdown",
   "metadata": {},
   "source": [
    "## Initialization\n",
    "\n",
    "Спочатку створимо допоміжну функцію для генерації допустимої множини хромосом, які можуть бути в індивіда. У нашому випадку - це всі літери англійського алфавіта в нижньому регістрі та пробіл."
   ]
  },
  {
   "cell_type": "code",
   "execution_count": 3,
   "metadata": {},
   "outputs": [],
   "source": [
    "def make_search_space():\n",
    "    alphabet = [chr(x) for x in range(ord('a'), ord('z') + 1)]\n",
    "    return alphabet + [' ']"
   ]
  },
  {
   "cell_type": "markdown",
   "metadata": {},
   "source": [
    "Тепер створимо функцію генерації індивідів з рандомно обраних хромосом, та функцію для генерації популяції таких індивідів потрібного розміру."
   ]
  },
  {
   "cell_type": "code",
   "execution_count": 4,
   "metadata": {},
   "outputs": [],
   "source": [
    "def random_individual(genotype_length, search_space):\n",
    "    return [random.choice(search_space) for i in range(genotype_length)]\n",
    "\n",
    "def init_generation(generation_size, genotype_length, search_space):\n",
    "    return [random_individual(genotype_length, search_space) for i in range(generation_size)]"
   ]
  },
  {
   "cell_type": "code",
   "execution_count": 5,
   "metadata": {},
   "outputs": [
    {
     "data": {
      "text/plain": [
       "[['n', 'x', 'a', 'g'],\n",
       " ['e', 'i', 'y', 'w'],\n",
       " ['c', 'p', 's', 'i'],\n",
       " ['y', 'v', 'x', 'w'],\n",
       " ['t', 'q', 'b', 'l']]"
      ]
     },
     "execution_count": 5,
     "metadata": {},
     "output_type": "execute_result"
    }
   ],
   "source": [
    "search_space = make_search_space()\n",
    "generation = init_generation(5, 4, search_space)\n",
    "generation"
   ]
  },
  {
   "cell_type": "markdown",
   "metadata": {},
   "source": [
    "## Fitness function & Selection\n",
    "\n",
    "Спочатку напишемо fitness функцію для оцінки індивіда, на скільки наближеним є його набір хромосом до цільвого набору. "
   ]
  },
  {
   "cell_type": "code",
   "execution_count": 6,
   "metadata": {},
   "outputs": [
    {
     "data": {
      "text/plain": [
       "0.6666666666666666"
      ]
     },
     "execution_count": 6,
     "metadata": {},
     "output_type": "execute_result"
    }
   ],
   "source": [
    "target = ['d', 'a', 'r', 'w', 'i', 'n']\n",
    "individual = ['c', 'a', 'r', 'l', 'i', 'n']\n",
    "\n",
    "def loss(individual, target):\n",
    "    comparisons = [i[0] == i[1] for i in zip(individual, target)]\n",
    "    return sum(comparisons) / len(target)\n",
    "\n",
    "loss(individual, target)"
   ]
  },
  {
   "cell_type": "markdown",
   "metadata": {},
   "source": [
    "Тепер, коли ми можемо оцінити кожного індивіда, напишемо функцію природнього добору, яка з усієї популяції обирає найкращих індивідів, які потім (пізніше реалізуємо це) дадуть нащадків."
   ]
  },
  {
   "cell_type": "code",
   "execution_count": 7,
   "metadata": {},
   "outputs": [],
   "source": [
    "def select(population, proportion=0.5):\n",
    "    fitnesses = [loss(individual, target) for individual in population]\n",
    "    fitnesses, population = (list(t) for t in zip(*sorted(zip(fitnesses, population), reverse=True)))\n",
    "    threshold = math.ceil(len(population)*proportion)\n",
    "    best_scores = fitnesses[:threshold]\n",
    "    fittest_individuals = population[:threshold]\n",
    "    return fittest_individuals, best_scores"
   ]
  },
  {
   "cell_type": "code",
   "execution_count": 8,
   "metadata": {},
   "outputs": [
    {
     "data": {
      "text/plain": [
       "([['s', 'l', 'y', 'p', 'k', 'n'],\n",
       "  ['r', 'a', 'p', 'd', 'j', 't'],\n",
       "  ['n', 'a', 's', 'e', 'w', 'l'],\n",
       "  ['c', 'f', 'r', 'v', 'l', 'c'],\n",
       "  ['v', 'o', 'c', 'l', 'w', 'e']],\n",
       " [0.16666666666666666,\n",
       "  0.16666666666666666,\n",
       "  0.16666666666666666,\n",
       "  0.16666666666666666,\n",
       "  0.0])"
      ]
     },
     "execution_count": 8,
     "metadata": {},
     "output_type": "execute_result"
    }
   ],
   "source": [
    "target = ['d', 'a', 'r', 'w', 'i', 'n']\n",
    "population = init_generation(10, 6, search_space)\n",
    "selection_coeff = 0.5\n",
    "best_individuals, best_scores = select(population, selection_coeff)\n",
    "best_individuals, best_scores"
   ]
  },
  {
   "cell_type": "markdown",
   "metadata": {},
   "source": [
    "## Generate next population: Crossover & Mutation\n",
    "\n",
    "Спочатку напишемо функцію мутації хромосом індивіда."
   ]
  },
  {
   "cell_type": "code",
   "execution_count": 9,
   "metadata": {},
   "outputs": [],
   "source": [
    "def mutate(child, mutation_ratio, search_space=search_space):\n",
    "    count = math.ceil(len(child) * mutation_ratio)\n",
    "    for i in range(count):\n",
    "        child[random.randint(0, len(child)-1)] = random.choice(search_space)\n",
    "    return child"
   ]
  },
  {
   "cell_type": "code",
   "execution_count": 10,
   "metadata": {},
   "outputs": [
    {
     "data": {
      "text/plain": [
       "['d', 'a', 'r', 'o', 'i', ' ']"
      ]
     },
     "execution_count": 10,
     "metadata": {},
     "output_type": "execute_result"
    }
   ],
   "source": [
    "individual = ['d', 'a', 'r', 'w', 'i', 'n']\n",
    "mutate(individual, 0.25)"
   ]
  },
  {
   "cell_type": "markdown",
   "metadata": {},
   "source": [
    "Тепер напишемо функцію, створення нового індивіда шляхом схрещення генома двох батьків."
   ]
  },
  {
   "cell_type": "code",
   "execution_count": 11,
   "metadata": {},
   "outputs": [],
   "source": [
    "def produce_child(daddy, mom, shift=0):\n",
    "    child = daddy.copy()\n",
    "    child[shift::2] = mom[shift::2]\n",
    "    return child"
   ]
  },
  {
   "cell_type": "code",
   "execution_count": 12,
   "metadata": {},
   "outputs": [
    {
     "data": {
      "text/plain": [
       "['f', 'a', 'w', 'w', 'e', 'n']"
      ]
     },
     "execution_count": 12,
     "metadata": {},
     "output_type": "execute_result"
    }
   ],
   "source": [
    "daddy = ['d', 'a', 'r', 'w', 'i', 'n']\n",
    "mom = ['f', 'o', 'w', 'l', 'e', 'r']\n",
    "produce_child(daddy, mom)"
   ]
  },
  {
   "cell_type": "markdown",
   "metadata": {},
   "source": [
    "Маючи функції породження нових індивідів та внесення випадкових мутацій в іх геном, тепер ми можемо створити функцію генерації новою популяції."
   ]
  },
  {
   "cell_type": "code",
   "execution_count": 13,
   "metadata": {},
   "outputs": [],
   "source": [
    "def new_generation(parents):\n",
    "    children = [produce_child(*random.sample(parents, k=2)) for i in parents]\n",
    "    children = [mutate(child, 0.25) for child in children]\n",
    "    new_generation = (parents + children)\n",
    "    return new_generation"
   ]
  },
  {
   "cell_type": "code",
   "execution_count": 14,
   "metadata": {},
   "outputs": [
    {
     "name": "stdout",
     "output_type": "stream",
     "text": [
      "Parents:\n",
      "[['s', 'l', 'y', 'p', 'k', 'n'], ['r', 'a', 'p', 'd', 'j', 't'], ['n', 'a', 's', 'e', 'w', 'l'], ['c', 'f', 'r', 'v', 'l', 'c'], ['v', 'o', 'c', 'l', 'w', 'e']]\n",
      "\n",
      "New population (parents & children):\n",
      "[['s', 'l', 'y', 'p', 'k', 'n'], ['r', 'a', 'p', 'd', 'j', 't'], ['n', 'a', 's', 'e', 'w', 'l'], ['c', 'f', 'r', 'v', 'l', 'c'], ['v', 'o', 'c', 'l', 'w', 'e'], ['c', 'x', 'r', 'p', 'l', 'm'], ['r', 'a', 'p', 'e', 'b', 'l'], ['n', 'o', 's', 'e', 'w', 'p'], ['r', 'l', 'p', 'p', 'j', 'e'], ['b', 'o', 'r', 'l', 'l', 'e']]\n"
     ]
    }
   ],
   "source": [
    "print(f\"Parents:\\n{best_individuals}\\n\")\n",
    "new_population = new_generation(best_individuals)\n",
    "print(f\"New population (parents & children):\\n{new_population}\")"
   ]
  },
  {
   "cell_type": "markdown",
   "metadata": {},
   "source": [
    "## Create model\n",
    "\n",
    "Зберемо все в одну модель:"
   ]
  },
  {
   "cell_type": "code",
   "execution_count": 15,
   "metadata": {},
   "outputs": [],
   "source": [
    "class GA:\n",
    "    def __init__(self, target, population_size=1000, mutation_ratio=0.10, selection_coeff=0.5):\n",
    "        print('Init model with following params:\\n \\\n",
    "              - population_size: {}\\n \\\n",
    "              - mutation_ratio: {}\\n \\\n",
    "              - selection_coeff: {}\\n'.format(population_size, mutation_ratio, selection_coeff))\n",
    "        self.target = list(target)\n",
    "        self.mutation_ratio = mutation_ratio\n",
    "        self.selection_coeff = selection_coeff\n",
    "        self.genotype_length = len(target)\n",
    "        self.population_size = population_size\n",
    "#         self.search_space = self.make_search_space()[:10]\n",
    "        self.search_space = self.make_search_space()\n",
    "        self.generation = self.init_generation(self.population_size,\n",
    "                                               self.genotype_length,\n",
    "                                               self.search_space)\n",
    "        \n",
    "        self.output_string = \"\".join(self.generation[0])\n",
    "    \n",
    "    def make_search_space(self):\n",
    "        alphabet = [chr(x) for x in range(ord('a'), ord('z') + 1)]\n",
    "        return alphabet + [' ']\n",
    "    \n",
    "    def init_generation(self, generation_size, genotype_length, search_space):\n",
    "        return [self.random_individual(genotype_length, search_space) for i in range(generation_size)]\n",
    "    \n",
    "    def random_individual(self, genotype_length, search_space):\n",
    "        return [random.choice(search_space) for i in range(genotype_length)]\n",
    "    \n",
    "    def loss(self, individual, target):\n",
    "        comparisons = [i[0] == i[1] for i in zip(individual, target)]\n",
    "        return sum(comparisons) / len(target)\n",
    "    \n",
    "    def select(self, population, proportion=0.5):\n",
    "        fitnesses = [self.loss(individual, self.target) for individual in population]\n",
    "        fitnesses, population = (list(t) for t in zip(*sorted(zip(fitnesses, population), reverse=True)))\n",
    "        threshold = math.ceil(len(population)*proportion)\n",
    "        best_scores = fitnesses[:threshold]\n",
    "        fittest_individuals = population[:threshold]\n",
    "        return fittest_individuals, best_scores\n",
    "    \n",
    "    def new_generation(self, parents):\n",
    "        amount_of_children = self.population_size - len(parents)\n",
    "        children = [self.produce_child(*random.sample(parents, k=2)) for i in range(amount_of_children)]\n",
    "        children = [self.mutate(child, self.mutation_ratio, self.search_space) for child in children]\n",
    "        new_generation = (parents + children)\n",
    "        return new_generation\n",
    "    \n",
    "    def mutate(self, child, mutation_ratio, search_space):\n",
    "        count = math.ceil(len(child) * mutation_ratio)\n",
    "        for i in range(count):\n",
    "            child[random.randint(0, len(child)-1)] = random.choice(search_space)\n",
    "        return child \n",
    "        \n",
    "    def produce_child(self, daddy, mom, shift=0):\n",
    "        child = daddy.copy()\n",
    "        child[shift::2] = mom[shift::2]\n",
    "        return child\n",
    "    \n",
    "    def train(self):\n",
    "        best_score = .0\n",
    "        count = 0\n",
    "        while best_score < 1:\n",
    "            fittest_individuals, best_scores = self.select(self.generation, self.selection_coeff)\n",
    "            best_score = best_scores[0]\n",
    "            self.output_string = \"\".join(fittest_individuals[0])\n",
    "            clear_output()\n",
    "            print(self.output_string)\n",
    "            print(f\"Iteration: {count}; Best score: {best_scores[0]}\\n\")\n",
    "            self.generation = self.new_generation(fittest_individuals)\n",
    "            count += 1\n",
    "        \n",
    "        return count, best_scores[0]"
   ]
  },
  {
   "cell_type": "code",
   "execution_count": 16,
   "metadata": {},
   "outputs": [
    {
     "name": "stdout",
     "output_type": "stream",
     "text": [
      "Init model with following params:\n",
      "               - population_size: 100\n",
      "               - mutation_ratio: 0.01\n",
      "               - selection_coeff: 0.5\n",
      "\n"
     ]
    }
   ],
   "source": [
    "phrase = \"to be or not to be that is the question\"\n",
    "ga = GA(phrase, 100, .01)"
   ]
  },
  {
   "cell_type": "code",
   "execution_count": 17,
   "metadata": {},
   "outputs": [
    {
     "name": "stdout",
     "output_type": "stream",
     "text": [
      "to be or not to be that is the question\n",
      "Iteration: 218; Best score: 1.0\n",
      "\n",
      "CPU times: user 1.21 s, sys: 166 ms, total: 1.38 s\n",
      "Wall time: 1.43 s\n"
     ]
    },
    {
     "data": {
      "text/plain": [
       "(219, 1.0)"
      ]
     },
     "execution_count": 17,
     "metadata": {},
     "output_type": "execute_result"
    }
   ],
   "source": [
    "%%time\n",
    "ga.train()"
   ]
  },
  {
   "cell_type": "markdown",
   "metadata": {},
   "source": [
    "# Оптимізація алгоритму\n",
    "\n",
    "Спочатку визначемо оптимальний розмір популяції (див. [деталі](https://habr.com/ru/post/114910/))"
   ]
  },
  {
   "cell_type": "code",
   "execution_count": 18,
   "metadata": {},
   "outputs": [],
   "source": [
    "def measure_count_of_alleles(chromo_search_spaces):\n",
    "    return [len(x) for x in chromo_search_spaces]\n",
    "\n",
    "def max_population_size(count_of_alleles):\n",
    "    N = np.prod(count_of_alleles)\n",
    "    return N\n",
    "\n",
    "def min_population_size(space_list, prob=.999, left=0, right=10000):\n",
    "    if right - left <= 1:\n",
    "        return right\n",
    "    mid = (left + right) // 2\n",
    "    prob_mid = get_probability(mid, space_list)\n",
    "    print(prob_mid,left,right)\n",
    "    if prob > prob_mid:\n",
    "        return min_population_size(space_list, prob, mid, right)\n",
    "    else:\n",
    "        return min_population_size(space_list, prob, left, mid)\n",
    "\n",
    "# def min_population_size(count_of_alleles, prob=.999):\n",
    "#     L = len(count_of_alleles)\n",
    "# #     base = np.max(count_of_alleles)\n",
    "#     base = 2\n",
    "#     N = 1 + math.log(1/(1-0.999**(1/L)), base)\n",
    "#     return math.ceil(N)\n",
    "\n",
    "def prob_getting_all_chr(pop_size, space_size):\n",
    "    not_get_prob = 0\n",
    "    for i in range(1, space_size + 1):\n",
    "        not_get_prob += (-1) ** (i + 1) * binom(space_size, i) * ((space_size - i) / space_size) ** pop_size\n",
    "    return 1 - not_get_prob\n",
    "\n",
    "\n",
    "def get_probability(pop_size, space_list):\n",
    "    p = 1\n",
    "    for space_size in space_list:\n",
    "        p *= prob_getting_all_chr(pop_size, space_size)\n",
    "    return p"
   ]
  },
  {
   "cell_type": "code",
   "execution_count": 19,
   "metadata": {},
   "outputs": [
    {
     "data": {
      "text/plain": [
       "['a', 'b', 'c', 'd', 'e', 'f', 'g', 'h', 'i', 'j']"
      ]
     },
     "execution_count": 19,
     "metadata": {},
     "output_type": "execute_result"
    }
   ],
   "source": [
    "search_space[:10]"
   ]
  },
  {
   "cell_type": "code",
   "execution_count": 20,
   "metadata": {},
   "outputs": [
    {
     "name": "stdout",
     "output_type": "stream",
     "text": [
      "Max population size: 0\n",
      "1.0 0 10000\n",
      "1.0 0 5000\n",
      "1.0 0 2500\n",
      "0.9999999399631009 0 1250\n",
      "0.9919299180559078 0 625\n",
      "0.9999775245301472 312 625\n",
      "0.9995733473116751 312 468\n",
      "0.9981422255327902 312 390\n",
      "0.9990926402374877 351 390\n",
      "0.9986768950871662 351 370\n",
      "0.9989043014025588 360 370\n",
      "0.9989839211947624 365 370\n",
      "0.9990215355238099 367 370\n",
      "Min population size: 368\n"
     ]
    }
   ],
   "source": [
    "# phrase_search_spaces = [list(range(len(search_space[:10]))) for char in phrase2]\n",
    "phrase_search_spaces = [list(range(len(search_space))) for char in phrase]\n",
    "\n",
    "count_of_alleles = measure_count_of_alleles(phrase_search_spaces)\n",
    "N_max = max_population_size(phrase_search_spaces)\n",
    "print(f\"Max population size: {N_max}\")\n",
    "N_min = min_population_size(count_of_alleles, 0.999)\n",
    "# N_min = min_population_size(count_of_alleles)\n",
    "print(f\"Min population size: {N_min}\")"
   ]
  },
  {
   "cell_type": "code",
   "execution_count": 21,
   "metadata": {},
   "outputs": [
    {
     "name": "stdout",
     "output_type": "stream",
     "text": [
      "Init model with following params:\n",
      "               - population_size: 368\n",
      "               - mutation_ratio: 0.01\n",
      "               - selection_coeff: 0.5\n",
      "\n"
     ]
    }
   ],
   "source": [
    "phrase = \"to be or not to be that is the question\"\n",
    "ga = GA(phrase, N_min, .01)"
   ]
  },
  {
   "cell_type": "code",
   "execution_count": 22,
   "metadata": {},
   "outputs": [
    {
     "name": "stdout",
     "output_type": "stream",
     "text": [
      "to be or not to be that is the question\n",
      "Iteration: 141; Best score: 1.0\n",
      "\n",
      "CPU times: user 1.75 s, sys: 143 ms, total: 1.89 s\n",
      "Wall time: 2.2 s\n"
     ]
    },
    {
     "data": {
      "text/plain": [
       "(142, 1.0)"
      ]
     },
     "execution_count": 22,
     "metadata": {},
     "output_type": "execute_result"
    }
   ],
   "source": [
    "%%time\n",
    "ga.train()"
   ]
  },
  {
   "cell_type": "markdown",
   "metadata": {},
   "source": [
    "Тепер визначемо оптимальний розмір розмір мутації (див. [деталі](https://habr.com/ru/post/114910/))"
   ]
  },
  {
   "cell_type": "code",
   "execution_count": 23,
   "metadata": {},
   "outputs": [],
   "source": [
    "def mutation_ratio(num_alleles, genotype_length, population_size):\n",
    "    N, L, p = population_size, genotype_length, 1/num_alleles\n",
    "    P2 = round((L*(1-(1-10*p**(N-1))**(1/N))) * 100, 3)\n",
    "    ratio = P2 if P2 > 0.01 else 0.01\n",
    "    return ratio"
   ]
  },
  {
   "cell_type": "code",
   "execution_count": 24,
   "metadata": {},
   "outputs": [
    {
     "data": {
      "text/plain": [
       "0.01"
      ]
     },
     "execution_count": 24,
     "metadata": {},
     "output_type": "execute_result"
    }
   ],
   "source": [
    "mut_ratio = mutation_ratio(np.max(count_of_alleles), len(phrase), N_min)\n",
    "mut_ratio"
   ]
  },
  {
   "cell_type": "code",
   "execution_count": 25,
   "metadata": {},
   "outputs": [
    {
     "name": "stdout",
     "output_type": "stream",
     "text": [
      "Init model with following params:\n",
      "               - population_size: 368\n",
      "               - mutation_ratio: 0.01\n",
      "               - selection_coeff: 0.25\n",
      "\n"
     ]
    }
   ],
   "source": [
    "# phrase2 = \"abbcde\"\n",
    "ga = GA(phrase, N_min, mut_ratio, selection_coeff=0.25)"
   ]
  },
  {
   "cell_type": "code",
   "execution_count": 26,
   "metadata": {},
   "outputs": [
    {
     "name": "stdout",
     "output_type": "stream",
     "text": [
      "to be or not to be that is the question\n",
      "Iteration: 96; Best score: 1.0\n",
      "\n",
      "CPU times: user 1.32 s, sys: 98.2 ms, total: 1.42 s\n",
      "Wall time: 1.55 s\n"
     ]
    },
    {
     "data": {
      "text/plain": [
       "(97, 1.0)"
      ]
     },
     "execution_count": 26,
     "metadata": {},
     "output_type": "execute_result"
    }
   ],
   "source": [
    "%%time\n",
    "ga.train()"
   ]
  },
  {
   "cell_type": "code",
   "execution_count": 27,
   "metadata": {},
   "outputs": [
    {
     "name": "stdout",
     "output_type": "stream",
     "text": [
      "to be or not to be that is the question\n",
      "Iteration: 52; Best score: 1.0\n",
      "\n",
      "Average epohe count: 53.3\n",
      "CPU times: user 7.66 s, sys: 557 ms, total: 8.22 s\n",
      "Wall time: 8.94 s\n"
     ]
    }
   ],
   "source": [
    "%%time\n",
    "total_count = 0\n",
    "for i in range(10):\n",
    "    print(f\"Iteration {i+1}\")\n",
    "    ga = GA(phrase, N_min, mut_ratio, selection_coeff=0.125)\n",
    "    count, best_score = ga.train()\n",
    "    total_count += count\n",
    "print(f\"Average epohe count: {total_count/10}\")"
   ]
  },
  {
   "cell_type": "code",
   "execution_count": 74,
   "metadata": {},
   "outputs": [],
   "source": [
    "X_exprm = np.array([0.001, 0.125, 0.25, 0.375, 0.5, 0.625, 0.75, 0.875]) # selection_coeff для есксперименту\n",
    "y_exprm = np.array([35, 57, 82, 118, 160, 235, 393, 821]) # Експериментально отримана кількість ітерацій при зазначений вище пропорціях вибірки"
   ]
  },
  {
   "cell_type": "code",
   "execution_count": 75,
   "metadata": {},
   "outputs": [
    {
     "data": {
      "image/png": "[encoded data removed]",
      "text/plain": [
       "<Figure size 432x288 with 1 Axes>"
      ]
     },
     "metadata": {
      "needs_background": "light"
     },
     "output_type": "display_data"
    }
   ],
   "source": [
    "pd.Series(y_exprm).plot()\n",
    "plt.show()"
   ]
  },
  {
   "cell_type": "code",
   "execution_count": 31,
   "metadata": {},
   "outputs": [
    {
     "data": {
      "text/plain": [
       "array([  17.92128405,   52.5949608 ,   75.2786399 ,   88.52569701,\n",
       "         94.88950782,   96.92344801,   97.18089327,   98.21521928,\n",
       "        102.57980172,  112.82801628,  131.51323864,  161.18884448,\n",
       "        204.40820949,  263.72470935,  341.69171973,  440.86261634,\n",
       "        563.79077484,  713.02957092,  891.13238027, 1100.65257856])"
      ]
     },
     "execution_count": 31,
     "metadata": {},
     "output_type": "execute_result"
    }
   ],
   "source": []
  },
  {
   "cell_type": "code",
   "execution_count": 32,
   "metadata": {},
   "outputs": [
    {
     "data": {
      "image/png": "[encoded data removed]",
      "text/plain": [
       "<Figure size 432x288 with 1 Axes>"
      ]
     },
     "metadata": {
      "needs_background": "light"
     },
     "output_type": "display_data"
    }
   ],
   "source": [
    "new_X, new_y = zip(*sorted(zip(X_f.reshape(-1, 1), np.ceil(y_f)))) # sort values for plotting\n",
    "plt.plot(new_X, new_y, label='Linear Model, Polynomial Degree = 3', color='b')\n",
    "plt.legend()\n",
    "plt.show()"
   ]
  },
  {
   "cell_type": "code",
   "execution_count": 70,
   "metadata": {},
   "outputs": [],
   "source": [
    "from sklearn.linear_model import LinearRegression\n",
    "from sklearn.preprocessing import PolynomialFeatures"
   ]
  },
  {
   "cell_type": "code",
   "execution_count": 96,
   "metadata": {},
   "outputs": [],
   "source": [
    "def find_curve_model(X, y):\n",
    "    poly_features = PolynomialFeatures(degree = 3)  \n",
    "    X_poly = poly_features.fit_transform(X.reshape(-1, 1))\n",
    "    poly_model = LinearRegression()  \n",
    "    poly_model.fit(X_poly, y)\n",
    "    y_pred = poly_model.predict(X_poly)\n",
    "    new_X, new_y = zip(*sorted(zip(X.reshape(-1, 1), y_pred))) # sort values for plotting\n",
    "    plt.plot(new_X, new_y, label='Linear Model, Polynomial Degree = 3', color='b')\n",
    "    plt.legend()\n",
    "    plt.show()\n",
    "    return poly_model"
   ]
  },
  {
   "cell_type": "code",
   "execution_count": 97,
   "metadata": {},
   "outputs": [
    {
     "data": {
      "image/png": "[encoded data removed]",
      "text/plain": [
       "<Figure size 432x288 with 1 Axes>"
      ]
     },
     "metadata": {
      "needs_background": "light"
     },
     "output_type": "display_data"
    }
   ],
   "source": [
    "model = find_curve_model(X_exprm, y_exprm)"
   ]
  },
  {
   "cell_type": "code",
   "execution_count": 117,
   "metadata": {},
   "outputs": [],
   "source": [
    "def generate_artificial_points(poly_model):\n",
    "    X = np.arange(0, 1, 0.025).reshape(-1, 1)\n",
    "    poly_features = PolynomialFeatures(degree = 3)  \n",
    "    X_poly = poly_features.fit_transform(X.reshape(-1, 1))\n",
    "    y = poly_model.predict(X_poly)\n",
    "    return X, np.ceil(y).astype(int)"
   ]
  },
  {
   "cell_type": "code",
   "execution_count": 118,
   "metadata": {},
   "outputs": [],
   "source": [
    "X, y = generate_artificial_points(model)"
   ]
  },
  {
   "cell_type": "code",
   "execution_count": 125,
   "metadata": {},
   "outputs": [],
   "source": [
    "def optimal_selection_coeff(selection_coeffs, epohs):\n",
    "    model = find_curve_model(selection_coeffs, epohs)\n",
    "    X, y = generate_artificial_points(model)\n",
    "    children_sizes = 100 - np.array(X) * 100\n",
    "    epohs = np.array(y).reshape(-1, 1)\n",
    "    total_children_counts = np.multiply(children_sizes, epohs) # Обчислемо яка кількість нащадків генерується протягом всіх ітерацій для різних значень selection_coeff\n",
    "    idx = np.argmin(total_children_counts[4:-4])\n",
    "    return (100 - np.take(children_sizes.reshape(-1), idx)) * 0.01"
   ]
  },
  {
   "cell_type": "code",
   "execution_count": 127,
   "metadata": {},
   "outputs": [
    {
     "data": {
      "image/png": "[encoded data removed]",
      "text/plain": [
       "<Figure size 432x288 with 1 Axes>"
      ]
     },
     "metadata": {
      "needs_background": "light"
     },
     "output_type": "display_data"
    }
   ],
   "source": [
    "selection_coeff = optimal_selection_coeff(X_exprm, y_exprm)"
   ]
  },
  {
   "cell_type": "code",
   "execution_count": 128,
   "metadata": {},
   "outputs": [
    {
     "data": {
      "text/plain": [
       "0.325"
      ]
     },
     "execution_count": 128,
     "metadata": {},
     "output_type": "execute_result"
    }
   ],
   "source": [
    "selection_coeff"
   ]
  },
  {
   "cell_type": "code",
   "execution_count": 129,
   "metadata": {},
   "outputs": [
    {
     "name": "stdout",
     "output_type": "stream",
     "text": [
      "to be or not to be that is the question\n",
      "Iteration: 102; Best score: 1.0\n",
      "\n",
      "CPU times: user 1.48 s, sys: 108 ms, total: 1.59 s\n",
      "Wall time: 1.99 s\n"
     ]
    }
   ],
   "source": [
    "%%time\n",
    "phrase = \"to be or not to be that is the question\"\n",
    "ga = GA(phrase, N_min, mut_ratio, selection_coeff=selection_coeff)\n",
    "count, best_score = ga.train()"
   ]
  }
 ],
 "metadata": {
  "kernelspec": {
   "display_name": "Python 3",
   "language": "python",
   "name": "python3"
  },
  "language_info": {
   "codemirror_mode": {
    "name": "ipython",
    "version": 3
   },
   "file_extension": ".py",
   "mimetype": "text/x-python",
   "name": "python",
   "nbconvert_exporter": "python",
   "pygments_lexer": "ipython3",
   "version": "3.7.4"
  }
 },
 "nbformat": 4,
 "nbformat_minor": 2
}
